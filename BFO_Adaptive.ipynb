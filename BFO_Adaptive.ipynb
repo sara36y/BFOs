{
 "cells": [
  {
   "cell_type": "markdown",
   "id": "f0b6cd33",
   "metadata": {},
   "source": [
    "# CI project :Natural-inspired pattern Recognition for Classification Problem \n",
    "\n",
    "## Import Libraries"
   ]
  },
  {
   "cell_type": "code",
   "execution_count": 2,
   "id": "e73c030e",
   "metadata": {},
   "outputs": [],
   "source": [
    "import numpy as np \n",
    "import pandas as pd \n",
    "import matplotlib.pyplot as plt \n",
    "import seaborn as sns\n",
    "from sklearn.model_selection import train_test_split ,cross_val_score \n",
    "from sklearn.ensemble import RandomForestClassifier \n",
    "from sklearn.metrics import confusion_matrix ,classification_report,accuracy_score\n",
    "from sklearn import datasets \n",
    "from sklearn.svm import SVC ,SVR\n",
    "from sklearn.neighbors import KNeighborsClassifier,KNeighborsRegressor\n",
    "import time\n",
    "from sklearn.svm import SVC\n",
    "from sklearn.datasets import load_digits\n",
    "from sklearn.preprocessing import StandardScaler\n",
    "from sklearn.model_selection import validation_curve"
   ]
  },
  {
   "cell_type": "code",
   "execution_count": 3,
   "id": "e4b2fd9b",
   "metadata": {},
   "outputs": [],
   "source": [
    "##Load MNIST data"
   ]
  },
  {
   "cell_type": "code",
   "execution_count": 4,
   "id": "e14589b1",
   "metadata": {},
   "outputs": [],
   "source": [
    "dataset = datasets.load_digits()\n",
    "X = dataset.data\n",
    "y = dataset.target"
   ]
  },
  {
   "cell_type": "code",
   "execution_count": 5,
   "id": "a05740b5",
   "metadata": {},
   "outputs": [
    {
     "data": {
      "text/plain": [
       "{'data': array([[ 0.,  0.,  5., ...,  0.,  0.,  0.],\n",
       "        [ 0.,  0.,  0., ..., 10.,  0.,  0.],\n",
       "        [ 0.,  0.,  0., ..., 16.,  9.,  0.],\n",
       "        ...,\n",
       "        [ 0.,  0.,  1., ...,  6.,  0.,  0.],\n",
       "        [ 0.,  0.,  2., ..., 12.,  0.,  0.],\n",
       "        [ 0.,  0., 10., ..., 12.,  1.,  0.]]),\n",
       " 'target': array([0, 1, 2, ..., 8, 9, 8]),\n",
       " 'frame': None,\n",
       " 'feature_names': ['pixel_0_0',\n",
       "  'pixel_0_1',\n",
       "  'pixel_0_2',\n",
       "  'pixel_0_3',\n",
       "  'pixel_0_4',\n",
       "  'pixel_0_5',\n",
       "  'pixel_0_6',\n",
       "  'pixel_0_7',\n",
       "  'pixel_1_0',\n",
       "  'pixel_1_1',\n",
       "  'pixel_1_2',\n",
       "  'pixel_1_3',\n",
       "  'pixel_1_4',\n",
       "  'pixel_1_5',\n",
       "  'pixel_1_6',\n",
       "  'pixel_1_7',\n",
       "  'pixel_2_0',\n",
       "  'pixel_2_1',\n",
       "  'pixel_2_2',\n",
       "  'pixel_2_3',\n",
       "  'pixel_2_4',\n",
       "  'pixel_2_5',\n",
       "  'pixel_2_6',\n",
       "  'pixel_2_7',\n",
       "  'pixel_3_0',\n",
       "  'pixel_3_1',\n",
       "  'pixel_3_2',\n",
       "  'pixel_3_3',\n",
       "  'pixel_3_4',\n",
       "  'pixel_3_5',\n",
       "  'pixel_3_6',\n",
       "  'pixel_3_7',\n",
       "  'pixel_4_0',\n",
       "  'pixel_4_1',\n",
       "  'pixel_4_2',\n",
       "  'pixel_4_3',\n",
       "  'pixel_4_4',\n",
       "  'pixel_4_5',\n",
       "  'pixel_4_6',\n",
       "  'pixel_4_7',\n",
       "  'pixel_5_0',\n",
       "  'pixel_5_1',\n",
       "  'pixel_5_2',\n",
       "  'pixel_5_3',\n",
       "  'pixel_5_4',\n",
       "  'pixel_5_5',\n",
       "  'pixel_5_6',\n",
       "  'pixel_5_7',\n",
       "  'pixel_6_0',\n",
       "  'pixel_6_1',\n",
       "  'pixel_6_2',\n",
       "  'pixel_6_3',\n",
       "  'pixel_6_4',\n",
       "  'pixel_6_5',\n",
       "  'pixel_6_6',\n",
       "  'pixel_6_7',\n",
       "  'pixel_7_0',\n",
       "  'pixel_7_1',\n",
       "  'pixel_7_2',\n",
       "  'pixel_7_3',\n",
       "  'pixel_7_4',\n",
       "  'pixel_7_5',\n",
       "  'pixel_7_6',\n",
       "  'pixel_7_7'],\n",
       " 'target_names': array([0, 1, 2, 3, 4, 5, 6, 7, 8, 9]),\n",
       " 'images': array([[[ 0.,  0.,  5., ...,  1.,  0.,  0.],\n",
       "         [ 0.,  0., 13., ..., 15.,  5.,  0.],\n",
       "         [ 0.,  3., 15., ..., 11.,  8.,  0.],\n",
       "         ...,\n",
       "         [ 0.,  4., 11., ..., 12.,  7.,  0.],\n",
       "         [ 0.,  2., 14., ..., 12.,  0.,  0.],\n",
       "         [ 0.,  0.,  6., ...,  0.,  0.,  0.]],\n",
       " \n",
       "        [[ 0.,  0.,  0., ...,  5.,  0.,  0.],\n",
       "         [ 0.,  0.,  0., ...,  9.,  0.,  0.],\n",
       "         [ 0.,  0.,  3., ...,  6.,  0.,  0.],\n",
       "         ...,\n",
       "         [ 0.,  0.,  1., ...,  6.,  0.,  0.],\n",
       "         [ 0.,  0.,  1., ...,  6.,  0.,  0.],\n",
       "         [ 0.,  0.,  0., ..., 10.,  0.,  0.]],\n",
       " \n",
       "        [[ 0.,  0.,  0., ..., 12.,  0.,  0.],\n",
       "         [ 0.,  0.,  3., ..., 14.,  0.,  0.],\n",
       "         [ 0.,  0.,  8., ..., 16.,  0.,  0.],\n",
       "         ...,\n",
       "         [ 0.,  9., 16., ...,  0.,  0.,  0.],\n",
       "         [ 0.,  3., 13., ..., 11.,  5.,  0.],\n",
       "         [ 0.,  0.,  0., ..., 16.,  9.,  0.]],\n",
       " \n",
       "        ...,\n",
       " \n",
       "        [[ 0.,  0.,  1., ...,  1.,  0.,  0.],\n",
       "         [ 0.,  0., 13., ...,  2.,  1.,  0.],\n",
       "         [ 0.,  0., 16., ..., 16.,  5.,  0.],\n",
       "         ...,\n",
       "         [ 0.,  0., 16., ..., 15.,  0.,  0.],\n",
       "         [ 0.,  0., 15., ..., 16.,  0.,  0.],\n",
       "         [ 0.,  0.,  2., ...,  6.,  0.,  0.]],\n",
       " \n",
       "        [[ 0.,  0.,  2., ...,  0.,  0.,  0.],\n",
       "         [ 0.,  0., 14., ..., 15.,  1.,  0.],\n",
       "         [ 0.,  4., 16., ..., 16.,  7.,  0.],\n",
       "         ...,\n",
       "         [ 0.,  0.,  0., ..., 16.,  2.,  0.],\n",
       "         [ 0.,  0.,  4., ..., 16.,  2.,  0.],\n",
       "         [ 0.,  0.,  5., ..., 12.,  0.,  0.]],\n",
       " \n",
       "        [[ 0.,  0., 10., ...,  1.,  0.,  0.],\n",
       "         [ 0.,  2., 16., ...,  1.,  0.,  0.],\n",
       "         [ 0.,  0., 15., ..., 15.,  0.,  0.],\n",
       "         ...,\n",
       "         [ 0.,  4., 16., ..., 16.,  6.,  0.],\n",
       "         [ 0.,  8., 16., ..., 16.,  8.,  0.],\n",
       "         [ 0.,  1.,  8., ..., 12.,  1.,  0.]]]),\n",
       " 'DESCR': \".. _digits_dataset:\\n\\nOptical recognition of handwritten digits dataset\\n--------------------------------------------------\\n\\n**Data Set Characteristics:**\\n\\n:Number of Instances: 1797\\n:Number of Attributes: 64\\n:Attribute Information: 8x8 image of integer pixels in the range 0..16.\\n:Missing Attribute Values: None\\n:Creator: E. Alpaydin (alpaydin '@' boun.edu.tr)\\n:Date: July; 1998\\n\\nThis is a copy of the test set of the UCI ML hand-written digits datasets\\nhttps://archive.ics.uci.edu/ml/datasets/Optical+Recognition+of+Handwritten+Digits\\n\\nThe data set contains images of hand-written digits: 10 classes where\\neach class refers to a digit.\\n\\nPreprocessing programs made available by NIST were used to extract\\nnormalized bitmaps of handwritten digits from a preprinted form. From a\\ntotal of 43 people, 30 contributed to the training set and different 13\\nto the test set. 32x32 bitmaps are divided into nonoverlapping blocks of\\n4x4 and the number of on pixels are counted in each block. This generates\\nan input matrix of 8x8 where each element is an integer in the range\\n0..16. This reduces dimensionality and gives invariance to small\\ndistortions.\\n\\nFor info on NIST preprocessing routines, see M. D. Garris, J. L. Blue, G.\\nT. Candela, D. L. Dimmick, J. Geist, P. J. Grother, S. A. Janet, and C.\\nL. Wilson, NIST Form-Based Handprint Recognition System, NISTIR 5469,\\n1994.\\n\\n.. dropdown:: References\\n\\n  - C. Kaynak (1995) Methods of Combining Multiple Classifiers and Their\\n    Applications to Handwritten Digit Recognition, MSc Thesis, Institute of\\n    Graduate Studies in Science and Engineering, Bogazici University.\\n  - E. Alpaydin, C. Kaynak (1998) Cascading Classifiers, Kybernetika.\\n  - Ken Tang and Ponnuthurai N. Suganthan and Xi Yao and A. Kai Qin.\\n    Linear dimensionalityreduction using relevance weighted LDA. School of\\n    Electrical and Electronic Engineering Nanyang Technological University.\\n    2005.\\n  - Claudio Gentile. A New Approximate Maximal Margin Classification\\n    Algorithm. NIPS. 2000.\\n\"}"
      ]
     },
     "execution_count": 5,
     "metadata": {},
     "output_type": "execute_result"
    }
   ],
   "source": [
    "dataset"
   ]
  },
  {
   "cell_type": "code",
   "execution_count": 6,
   "id": "2aa5ee90",
   "metadata": {},
   "outputs": [],
   "source": [
    "# Baseline Machine Learning Models: Classifiers with Default Hyperparameters"
   ]
  },
  {
   "cell_type": "code",
   "execution_count": 7,
   "id": "ebb5a3ac",
   "metadata": {},
   "outputs": [],
   "source": [
    "## Using 3-Fold Cross-Validation"
   ]
  },
  {
   "cell_type": "code",
   "execution_count": 8,
   "id": "ee6a4b53",
   "metadata": {},
   "outputs": [
    {
     "name": "stdout",
     "output_type": "stream",
     "text": [
      "Accuracy :0.9398998330550917\n"
     ]
    }
   ],
   "source": [
    "# Randomforest\n",
    "clf = RandomForestClassifier()\n",
    "clf.fit(X,y)\n",
    "scores = cross_val_score(clf ,X , y, cv=3 ,scoring='accuracy' )\n",
    "random_forest_accuracy = scores.mean()\n",
    "print(\"Accuracy :\"+str(scores.mean()))"
   ]
  },
  {
   "cell_type": "code",
   "execution_count": 21,
   "id": "5591d2c4",
   "metadata": {},
   "outputs": [
    {
     "name": "stdout",
     "output_type": "stream",
     "text": [
      "Accuracy:0.9593767390094602\n"
     ]
    }
   ],
   "source": [
    "#SVM\n",
    "clf = SVC()\n",
    "clf.fit(X,y)\n",
    "scores = cross_val_score(clf, X ,y, cv=3 , scoring ='accuracy')\n",
    "svc_accuracy=scores.mean()\n",
    "print(\"Accuracy:\"+ str(scores.mean()))"
   ]
  },
  {
   "cell_type": "code",
   "execution_count": 10,
   "id": "a3b83890",
   "metadata": {},
   "outputs": [
    {
     "name": "stdout",
     "output_type": "stream",
     "text": [
      "Accuracy:0.9627156371730662\n"
     ]
    }
   ],
   "source": [
    "#KNN\n",
    "clf = KNeighborsClassifier()\n",
    "clf.fit(X,y)\n",
    "scores = cross_val_score(clf, X, y, cv=3,scoring='accuracy')\n",
    "knn_accuracy= scores.mean()\n",
    "print(\"Accuracy:\"+ str(scores.mean()))"
   ]
  },
  {
   "cell_type": "code",
   "execution_count": 11,
   "id": "8080ed10",
   "metadata": {},
   "outputs": [],
   "source": [
    "## Traditional Parameter tunning Methods  Algorithm 1: Grid Search"
   ]
  },
  {
   "cell_type": "code",
   "execution_count": 12,
   "id": "42b17d09",
   "metadata": {},
   "outputs": [
    {
     "name": "stdout",
     "output_type": "stream",
     "text": [
      "{'criterion': 'gini', 'max_depth': 15, 'n_estimators': 30}\n",
      "Accuracy:0.9360044518642182\n"
     ]
    }
   ],
   "source": [
    "# Random forest optimized by gridSearchCv\n",
    "from sklearn.model_selection import GridSearchCV\n",
    "# Define hyperparameter Configuration space\n",
    "rf_params = {\n",
    "    'n_estimators' :[10,20,30],\n",
    "    #'max_features': ['sqrt',0.5],\n",
    "    'max_depth' :[15,20,30,40,50],\n",
    "    #'min_samples_leaf': [1,2,4,8],\n",
    "    #\"bootstrap\":[True,False],\n",
    "    \"criterion\":['gini','entropy']\n",
    "}\n",
    "clf = RandomForestClassifier(random_state=0)\n",
    "grid=GridSearchCV(clf,rf_params,cv=3,scoring='accuracy')\n",
    "grid.fit(X,y)\n",
    "print(grid.best_params_)\n",
    "random_forest_accuracy_bygridsearch = grid.best_score_\n",
    "print(\"Accuracy:\"+str(grid.best_score_))"
   ]
  },
  {
   "cell_type": "code",
   "execution_count": 13,
   "id": "048c80cc",
   "metadata": {},
   "outputs": [
    {
     "name": "stdout",
     "output_type": "stream",
     "text": [
      "{'C': 10, 'kernel': 'rbf'}\n",
      "Accuracy:0.9738452977184195\n"
     ]
    }
   ],
   "source": [
    "# SVM optimized by GridSearchCv \n",
    "from sklearn.model_selection import GridSearchCV\n",
    "#Define hyperparameter Configuration space \n",
    "svm_params = {\n",
    "    'C':[1,10,100],\n",
    "    'kernel' :['linear','poly','rbf','sigmoid']\n",
    "}\n",
    "clf = SVC(gamma='scale')\n",
    "grid =GridSearchCV(clf,svm_params ,cv=3 ,scoring = 'accuracy')\n",
    "grid.fit(X,y)\n",
    "print(grid.best_params_)\n",
    "svc_accuracy_bygridsearch = grid.best_score_\n",
    "print(\"Accuracy:\"+str(grid.best_score_))"
   ]
  },
  {
   "cell_type": "code",
   "execution_count": 14,
   "id": "93fcb655",
   "metadata": {},
   "outputs": [
    {
     "name": "stdout",
     "output_type": "stream",
     "text": [
      "{'n_neighbors': 3}\n",
      "Accuracy:0.9682804674457429\n"
     ]
    }
   ],
   "source": [
    "#KNN optimized by GridsearchCV\n",
    "from sklearn.model_selection import GridSearchCV\n",
    "rf_params = {\n",
    "    'n_neighbors': [2, 3, 5,10,15,20],\n",
    "}\n",
    "clf = KNeighborsClassifier()\n",
    "grid = GridSearchCV(clf, rf_params, cv=3, scoring='accuracy')\n",
    "grid.fit(X, y)\n",
    "print(grid.best_params_)\n",
    "knn_accuracy_bygridsearch= grid.best_score_\n",
    "print(\"Accuracy:\"+ str(grid.best_score_))"
   ]
  },
  {
   "cell_type": "code",
   "execution_count": 15,
   "id": "ff29a4f7",
   "metadata": {},
   "outputs": [],
   "source": [
    "##  Algorithm 2: Random Search"
   ]
  },
  {
   "cell_type": "code",
   "execution_count": 16,
   "id": "7179786c",
   "metadata": {},
   "outputs": [
    {
     "name": "stdout",
     "output_type": "stream",
     "text": [
      "{'criterion': 'gini', 'max_depth': 15, 'max_features': 31, 'min_samples_leaf': 1, 'min_samples_split': 2, 'n_estimators': 69}\n",
      "Accuracy:0.9309961046188091\n"
     ]
    }
   ],
   "source": [
    "#Random Forest\n",
    "from scipy.stats import randint as sp_randint\n",
    "from random import randrange as sp_randrange\n",
    "from sklearn.model_selection import RandomizedSearchCV\n",
    "# Define the hyperparameter configuration space\n",
    "rf_params = {\n",
    "    'n_estimators': sp_randint(10,100),\n",
    "    \"max_features\":sp_randint(1,64),\n",
    "    'max_depth': sp_randint(5,50),\n",
    "    \"min_samples_split\":sp_randint(2,11),\n",
    "    \"min_samples_leaf\":sp_randint(1,11),\n",
    "    \"criterion\":['gini','entropy']\n",
    "}\n",
    "n_iter_search=20 #number of iterations is set to 20, you can increase this number if time permits\n",
    "clf = RandomForestClassifier(random_state=0)\n",
    "Random = RandomizedSearchCV(clf, param_distributions=rf_params,n_iter=n_iter_search,cv=3,scoring='accuracy')\n",
    "Random.fit(X, y)\n",
    "print(Random.best_params_)\n",
    "random_forest_accuracy_byrandomsearch=Random.best_score_\n",
    "print(\"Accuracy:\"+ str(Random.best_score_))"
   ]
  },
  {
   "cell_type": "code",
   "execution_count": 17,
   "id": "393ba3d3",
   "metadata": {},
   "outputs": [
    {
     "name": "stdout",
     "output_type": "stream",
     "text": [
      "{'C': 46.64217963103565, 'kernel': 'rbf'}\n",
      "Accuracy:0.9738452977184195\n"
     ]
    }
   ],
   "source": [
    "#SVM\n",
    "from scipy import stats\n",
    "from scipy.stats import randint as sp_randint\n",
    "from sklearn.model_selection import RandomizedSearchCV\n",
    "rf_params = {\n",
    "    'C': stats.uniform(0,50),\n",
    "    \"kernel\":['linear','poly','rbf','sigmoid']\n",
    "}\n",
    "n_iter_search=20\n",
    "clf = SVC(gamma='scale')\n",
    "Random = RandomizedSearchCV(clf, param_distributions=rf_params,n_iter=n_iter_search,cv=3,scoring='accuracy')\n",
    "Random.fit(X, y)\n",
    "print(Random.best_params_)\n",
    "svc_accuracy_byrandomsearch=Random.best_score_\n",
    "print(\"Accuracy:\"+ str(Random.best_score_))"
   ]
  },
  {
   "cell_type": "code",
   "execution_count": 18,
   "id": "ea0a85cf",
   "metadata": {},
   "outputs": [
    {
     "name": "stdout",
     "output_type": "stream",
     "text": [
      "{'n_neighbors': 3}\n",
      "Accuracy:0.9682804674457429\n"
     ]
    }
   ],
   "source": [
    "#KNN\n",
    "from scipy.stats import randint as sp_randint\n",
    "from sklearn.model_selection import RandomizedSearchCV\n",
    "rf_params = {\n",
    "    'n_neighbors': range(1,20),\n",
    "}\n",
    "n_iter_search=10\n",
    "clf = KNeighborsClassifier()\n",
    "Random = RandomizedSearchCV(clf, param_distributions=rf_params,n_iter=n_iter_search,cv=3,scoring='accuracy')\n",
    "Random.fit(X, y)\n",
    "print(Random.best_params_)\n",
    "knn_accuracy_byrandomsearch=Random.best_score_\n",
    "print(\"Accuracy:\"+ str(Random.best_score_))"
   ]
  },
  {
   "cell_type": "markdown",
   "id": "88a08d51-c95f-4213-88eb-442edc5fa7fb",
   "metadata": {},
   "source": [
    "# Adaptive BFO Implementation (C + gamma)\n",
    "\n",
    "This cell implements an Adaptive version of the Bacterial Foraging Optimization (BFO) algorithm, where parameters like step size or chemotaxis behavior dynamically change based on performance or generation.  \n",
    "It optimizes `C` and `gamma` hyperparameters for the SVC model using the RBF kernel.\n",
    "\n",
    "Output: Best parameters, best accuracy, and training time.\n"
   ]
  },
  {
   "cell_type": "code",
   "execution_count": 23,
   "id": "c660c9bb",
   "metadata": {},
   "outputs": [
    {
     "name": "stdout",
     "output_type": "stream",
     "text": [
      "\n",
      "Best Parameters found by AS-BFO:\n",
      "C = 15.37482\n",
      "gamma = 0.01370\n",
      "Best Accuracy (CV) = 0.9599\n",
      "Training Time = 52.95 seconds\n"
     ]
    }
   ],
   "source": [
    "# Load and scale data\n",
    "dataset = load_digits()\n",
    "X = dataset.data\n",
    "y = dataset.target\n",
    "scaler = StandardScaler()\n",
    "X = scaler.fit_transform(X)\n",
    "\n",
    "# Fitness cache\n",
    "fitness_cache = {}\n",
    "\n",
    "def fitness_function(params):\n",
    "    key = tuple(np.round(params, 5))  # rounded key for caching\n",
    "    if key in fitness_cache:\n",
    "        return fitness_cache[key]\n",
    "    C, gamma = params\n",
    "    model = SVC(C=C, gamma=gamma, kernel='rbf')\n",
    "    score = cross_val_score(model, X, y, cv=3, scoring='accuracy', n_jobs=-1).mean()\n",
    "    fitness_cache[key] = score\n",
    "    return score\n",
    "\n",
    "# BFO Parameters\n",
    "n_bacteria = 10\n",
    "n_elimination_dispersal = 1\n",
    "n_reproduction = 2\n",
    "n_chemotaxis = 5\n",
    "n_swim = 3\n",
    "step_size_initial = 0.1  # Initial step size\n",
    "step_size_decay = 0.99  # Decay factor for step size\n",
    "\n",
    "# Parameter bounds\n",
    "bounds = np.array([\n",
    "    [0.01, 100],      # C\n",
    "    [0.0001, 1.0]     # gamma\n",
    "])\n",
    "\n",
    "# Initialize population\n",
    "np.random.seed(42)\n",
    "population = np.random.uniform(bounds[:, 0], bounds[:, 1], (n_bacteria, 2))\n",
    "\n",
    "best_score = -np.inf\n",
    "best_params = None\n",
    "start_time = time.time()\n",
    "\n",
    "for elim_disp in range(n_elimination_dispersal):\n",
    "    for repro in range(n_reproduction):\n",
    "        health = []\n",
    "        step_size = step_size_initial  # Reset step size at the beginning of each reproduction phase\n",
    "\n",
    "        for i in range(n_bacteria):\n",
    "            position = population[i].copy()\n",
    "            score = fitness_function(position)\n",
    "            health_i = 0\n",
    "\n",
    "            for j in range(n_chemotaxis):\n",
    "                delta = np.random.uniform(-1, 1, 2)\n",
    "                delta = delta / np.linalg.norm(delta)\n",
    "                new_position = position + step_size * delta\n",
    "                new_position = np.clip(new_position, bounds[:, 0], bounds[:, 1])\n",
    "                new_score = fitness_function(new_position)\n",
    "\n",
    "                swim_count = 0\n",
    "                while new_score > score and swim_count < n_swim:\n",
    "                    position = new_position\n",
    "                    score = new_score\n",
    "                    new_position = position + step_size * delta\n",
    "                    new_position = np.clip(new_position, bounds[:, 0], bounds[:, 1])\n",
    "                    new_score = fitness_function(new_position)\n",
    "                    swim_count += 1\n",
    "\n",
    "                health_i += score\n",
    "\n",
    "                if score > best_score:\n",
    "                    best_score = score\n",
    "                    best_params = position.copy()\n",
    "\n",
    "            health.append((health_i, i))\n",
    "\n",
    "        # Reproduction\n",
    "        health.sort(reverse=True)\n",
    "        sorted_indices = [idx for _, idx in health]\n",
    "        half = n_bacteria // 2\n",
    "        for i in range(half):\n",
    "            population[sorted_indices[half + i]] = population[sorted_indices[i]].copy()\n",
    "\n",
    "        # Adapt step size based on fitness change\n",
    "        # Reduce step size if no improvement is found during the chemotaxis phase\n",
    "        if health_i == 0:\n",
    "            step_size *= step_size_decay  # Adaptive step size decay\n",
    "\n",
    "    # Elimination and dispersal\n",
    "    for i in range(n_bacteria):\n",
    "        if np.random.rand() < 0.25:\n",
    "            population[i] = np.random.uniform(bounds[:, 0], bounds[:, 1])\n",
    "\n",
    "end_time = time.time()\n",
    "\n",
    "best_accuracy = best_score\n",
    "# Output\n",
    "print(\"\\nBest Parameters found by AS-BFO:\")\n",
    "print(f\"C = {best_params[0]:.5f}\")\n",
    "print(f\"gamma = {best_params[1]:.5f}\")\n",
    "print(f\"Best Accuracy (CV) = {best_score:.4f}\")\n",
    "bfo_time = end_time - start_time\n",
    "print(f\"Training Time = {end_time - start_time:.2f} seconds\")\n"
   ]
  },
  {
   "cell_type": "markdown",
   "id": "4a7c1c04-ec46-48fe-9e9d-da1cc7e3a0e8",
   "metadata": {},
   "source": [
    "# Compare SVC Optimizers: Default vs Grid vs Random vs Adaptive BFO\n",
    "\n",
    "**Description**:  \n",
    "This cell compares four optimization methods for SVC:\n",
    "- Default parameters  \n",
    "- Grid Search  \n",
    "- Randomized Search  \n",
    "- Adaptive BFO\n",
    "\n",
    "It records training time and accuracy for each method and summarizes the results in a structured DataFrame.\n"
   ]
  },
  {
   "cell_type": "code",
   "execution_count": 24,
   "id": "fef20713",
   "metadata": {},
   "outputs": [
    {
     "name": "stdout",
     "output_type": "stream",
     "text": [
      "          Method  Training Time (s)  Accuracy\n",
      "0        Default           0.081210  0.953997\n",
      "1    Grid Search           2.108613  0.959377\n",
      "2  Random Search           3.487333  0.957707\n",
      "3   Adaptive BFO          52.947241  0.959933\n"
     ]
    }
   ],
   "source": [
    "import time\n",
    "import numpy as np\n",
    "import pandas as pd\n",
    "from sklearn.svm import SVC\n",
    "from sklearn.model_selection import GridSearchCV, RandomizedSearchCV\n",
    "from scipy import stats\n",
    "\n",
    "# --- Default SVC ---\n",
    "start = time.time()\n",
    "clf = SVC()\n",
    "clf.fit(X, y)\n",
    "end = time.time()\n",
    "default_time = end - start\n",
    "\n",
    "# --- Grid Search SVC ---\n",
    "start = time.time()\n",
    "grid = GridSearchCV(SVC(gamma='scale'), {'C': [1, 10, 100], 'kernel': ['linear', 'poly', 'rbf', 'sigmoid']}, cv=3, scoring='accuracy')\n",
    "grid.fit(X, y)\n",
    "end = time.time()\n",
    "grid_time = end - start\n",
    "\n",
    "# --- Random Search SVC ---\n",
    "start = time.time()\n",
    "random = RandomizedSearchCV(SVC(gamma='scale'),\n",
    "                            {'C': stats.uniform(0, 50), 'kernel': ['linear', 'poly', 'rbf', 'sigmoid']},\n",
    "                            cv=3, n_iter=20, scoring='accuracy')\n",
    "random.fit(X, y)\n",
    "end = time.time()\n",
    "random_time = end - start\n",
    "\n",
    "# --- Averages for Accuracy (assuming these variables are defined beforehand) ---\n",
    "default_accuracy = np.mean([knn_accuracy, svc_accuracy, random_forest_accuracy])\n",
    "grid_accuracy = np.mean([knn_accuracy_bygridsearch, svc_accuracy_bygridsearch, random_forest_accuracy_bygridsearch])\n",
    "random_accuracy = np.mean([knn_accuracy_byrandomsearch, svc_accuracy_byrandomsearch, random_forest_accuracy_byrandomsearch])\n",
    "\n",
    "# Assuming best_accuracy and bfo_time are already computed from the AS-BFO optimization step:\n",
    "results_df = pd.DataFrame({\n",
    "    'Method': ['Default', 'Grid Search', 'Random Search', 'Adaptive BFO'],  # Updated method name\n",
    "    'Training Time (s)': [default_time, grid_time, random_time, bfo_time],\n",
    "    'Accuracy': [default_accuracy, grid_accuracy, random_accuracy, best_accuracy]\n",
    "})\n",
    "\n",
    "print(results_df)"
   ]
  },
  {
   "cell_type": "markdown",
   "id": "58ce2235-971b-4ba4-9e59-bab793f8cfdc",
   "metadata": {},
   "source": [
    "# Plot Accuracy and Training Time Comparisons\n",
    "\n",
    "**Description**:  \n",
    "This cell visualizes performance results across methods using bar charts:\n",
    "- Accuracy comparison  \n",
    "- Training time comparison\n",
    "\n",
    "✅ Helps evaluate the trade-off between accuracy and computational cost for each method.\n",
    "\n"
   ]
  },
  {
   "cell_type": "code",
   "execution_count": 25,
   "id": "05eefa70",
   "metadata": {},
   "outputs": [
    {
     "data": {
      "image/png": "[encoded data removed]",
      "text/plain": [
       "<Figure size 800x400 with 1 Axes>"
      ]
     },
     "metadata": {},
     "output_type": "display_data"
    },
    {
     "data": {
      "image/png": "[encoded data removed]",
      "text/plain": [
       "<Figure size 800x400 with 1 Axes>"
      ]
     },
     "metadata": {},
     "output_type": "display_data"
    }
   ],
   "source": [
    "import pandas as pd\n",
    "import matplotlib.pyplot as plt\n",
    "\n",
    "# prepare the data\n",
    "df = pd.DataFrame({\n",
    "    'Method': ['Default', 'Grid Search', 'Random Search', 'Adaptive BFO'],  # Updated to Adaptive BFO\n",
    "    'Training Time (s)': [default_time, grid_time, random_time, as_bfo_time],  # Changed bfo_time to as_bfo_time\n",
    "    'Accuracy': [default_accuracy, grid_accuracy, random_accuracy, best_accuracy]\n",
    "})\n",
    "\n",
    "# plot accuracy comparison\n",
    "plt.figure(figsize=(8, 4))\n",
    "plt.bar(df['Method'], df['Accuracy'], color='skyblue')\n",
    "plt.title('SVC Accuracy Comparison')\n",
    "plt.ylabel('Accuracy')\n",
    "plt.ylim(0.95, 0.98)\n",
    "plt.grid(axis='y', linestyle='--', alpha=0.7)\n",
    "plt.show()\n",
    "\n",
    "# plot training time comparison\n",
    "plt.figure(figsize=(8, 4))\n",
    "plt.bar(df['Method'], df['Training Time (s)'], color='salmon')\n",
    "plt.title('SVC Training Time Comparison')\n",
    "plt.ylabel('Training Time (seconds)')\n",
    "plt.grid(axis='y', linestyle='--', alpha=0.7)\n",
    "plt.show()\n"
   ]
  },
  {
   "cell_type": "markdown",
   "id": "fd035e5c-08a9-458b-8710-8b3848f5949c",
   "metadata": {},
   "source": [
    "# Validation Curve for SVC (Hyperparameter: C)\n",
    "\n",
    "**Description**:  \n",
    "This cell plots a validation curve for SVC with RBF kernel and fixed gamma.  \n",
    "It shows how accuracy changes as the regularization parameter `C` increases, helping identify the optimal balance between bias and variance.\n"
   ]
  },
  {
   "cell_type": "code",
   "execution_count": 26,
   "id": "2a2e7ceb",
   "metadata": {},
   "outputs": [
    {
     "data": {
      "image/png": "[encoded data removed]",
      "text/plain": [
       "<Figure size 600x400 with 1 Axes>"
      ]
     },
     "metadata": {},
     "output_type": "display_data"
    }
   ],
   "source": [
    "\n",
    "\n",
    "param_range = np.logspace(-3, 3, 7)\n",
    "train_scores, test_scores = validation_curve(\n",
    "    SVC(kernel='rbf', gamma=0.01),\n",
    "    X, y,\n",
    "    param_name=\"C\",\n",
    "    param_range=param_range,\n",
    "    cv=3,\n",
    "    scoring=\"accuracy\",\n",
    "    n_jobs=-1\n",
    ")\n",
    "\n",
    "train_mean = np.mean(train_scores, axis=1)\n",
    "test_mean  = np.mean(test_scores,  axis=1)\n",
    "\n",
    "plt.figure(figsize=(6,4))\n",
    "plt.semilogx(param_range, train_mean, label=\"Train\")\n",
    "plt.semilogx(param_range, test_mean,  label=\"CV\")\n",
    "plt.fill_between(param_range, train_mean - np.std(train_scores, axis=1),\n",
    "                 train_mean + np.std(train_scores, axis=1), alpha=0.2)\n",
    "plt.fill_between(param_range, test_mean  - np.std(test_scores, axis=1),\n",
    "                 test_mean  + np.std(test_scores, axis=1), alpha=0.2)\n",
    "plt.xlabel('C (log scale)')\n",
    "plt.ylabel('Accuracy')\n",
    "plt.title('Validation Curve for SVC')\n",
    "plt.legend()\n",
    "plt.grid(True)\n",
    "plt.show()\n",
    "\n"
   ]
  },
  {
   "cell_type": "markdown",
   "id": "fe537e2b-6641-46a2-b886-30a665f77f26",
   "metadata": {},
   "source": [
    "# Cross-Validation Accuracy Distribution (Boxplot)\n",
    "\n",
    "**Description**:  \n",
    "This cell compares accuracy distributions across different SVC training methods using 5-fold stratified cross-validation.  \n",
    "Boxplots visualize how consistent each method is across folds, and highlight variance or instability in performance.\n",
    "\n",
    "✅ Especially useful to evaluate robustness of Adaptive BFO compared to others.\n"
   ]
  },
  {
   "cell_type": "code",
   "execution_count": 27,
   "id": "c655a460",
   "metadata": {},
   "outputs": [
    {
     "data": {
      "image/png": "[encoded data removed]",
      "text/plain": [
       "<Figure size 800x500 with 1 Axes>"
      ]
     },
     "metadata": {},
     "output_type": "display_data"
    }
   ],
   "source": [
    "import seaborn as sns\n",
    "import matplotlib.pyplot as plt\n",
    "from sklearn.svm import SVC\n",
    "from sklearn.model_selection import cross_val_score, StratifiedKFold\n",
    "\n",
    "# Use the best parameters found by AS-BFO for SVC\n",
    "best_C = 15.3748  # Replace with the best C parameter from AS-BFO\n",
    "best_gamma = 0.0137  # Replace with the best gamma parameter from AS-BFO\n",
    "\n",
    "methods = {\n",
    "    'Default': SVC(),\n",
    "    'Grid Search': SVC(C=10, kernel='rbf'),\n",
    "    'Random Search': SVC(C=6.7, kernel='rbf'),\n",
    "    'Adaptive BFO': SVC(C=best_C, gamma=best_gamma, kernel='rbf')  # Updated BFO method to Adaptive BFO\n",
    "}\n",
    "\n",
    "cv = StratifiedKFold(n_splits=5, shuffle=True, random_state=42)\n",
    "scores_dict = {name: cross_val_score(model, X, y, cv=cv, scoring='accuracy') \n",
    "               for name, model in methods.items()}\n",
    "\n",
    "strong_colors = ['#e41a1c', '#377eb8', '#4daf4a', '#984ea3'] \n",
    "\n",
    "plt.figure(figsize=(8,5))\n",
    "sns.boxplot(data=list(scores_dict.values()), palette=strong_colors)\n",
    "plt.xticks(range(len(scores_dict)), list(scores_dict.keys()))\n",
    "plt.ylabel('Accuracy per fold')\n",
    "plt.title('Cross-Validation Scores Distribution')\n",
    "plt.grid(axis='y', linestyle='--', alpha=0.7)\n",
    "plt.show()\n"
   ]
  }
 ],
 "metadata": {
  "kernelspec": {
   "display_name": "Python 3 (ipykernel)",
   "language": "python",
   "name": "python3"
  },
  "language_info": {
   "codemirror_mode": {
    "name": "ipython",
    "version": 3
   },
   "file_extension": ".py",
   "mimetype": "text/x-python",
   "name": "python",
   "nbconvert_exporter": "python",
   "pygments_lexer": "ipython3",
   "version": "3.9.10"
  }
 },
 "nbformat": 4,
 "nbformat_minor": 5
}
